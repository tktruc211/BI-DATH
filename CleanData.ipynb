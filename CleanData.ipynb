{
 "cells": [
  {
   "cell_type": "markdown",
   "metadata": {},
   "source": [
    "# Đồ án thực hành: XÂY DỰNG VÀ KHAI THÁC KDL\n",
    "- Môn: **HTTT Phục vụ trí tuệ kinh doanh**\n",
    "- Lớp: **19HTTT2**\n",
    "- Yêu cầu: **Xây dựng và phân tích dữ liệu về Covid-19 trong các năm 2020 - 2022**\n",
    "- Thông tin nhóm:"
   ]
  },
  {
   "cell_type": "markdown",
   "metadata": {},
   "source": [
    "|STT | MSSV | Họ tên |\n",
    "| :---: | :---: | :--- |\n",
    "| 1 | 19127304 | Trần Khải Trúc |\n",
    "| 2 | 19127474 | Lương Kiếm Minh | \n",
    "| 3 | 19127649 | Tô Thanh Tuấn | "
   ]
  },
  {
   "cell_type": "code",
   "execution_count": 163,
   "metadata": {},
   "outputs": [],
   "source": [
    "import pandas as pd"
   ]
  },
  {
   "cell_type": "markdown",
   "metadata": {},
   "source": [
    "## 1. Chuẩn bị dữ liệu `Cases Report`"
   ]
  },
  {
   "cell_type": "markdown",
   "metadata": {},
   "source": [
    "### Đọc và xem bảng"
   ]
  },
  {
   "cell_type": "code",
   "execution_count": 164,
   "metadata": {},
   "outputs": [
    {
     "data": {
      "text/html": [
       "<div>\n",
       "<style scoped>\n",
       "    .dataframe tbody tr th:only-of-type {\n",
       "        vertical-align: middle;\n",
       "    }\n",
       "\n",
       "    .dataframe tbody tr th {\n",
       "        vertical-align: top;\n",
       "    }\n",
       "\n",
       "    .dataframe thead th {\n",
       "        text-align: right;\n",
       "    }\n",
       "</style>\n",
       "<table border=\"1\" class=\"dataframe\">\n",
       "  <thead>\n",
       "    <tr style=\"text-align: right;\">\n",
       "      <th></th>\n",
       "      <th>OUTCOME</th>\n",
       "      <th>AGE</th>\n",
       "      <th>GENDER</th>\n",
       "      <th>REPORTING_PHU</th>\n",
       "      <th>SPECIMENDATE</th>\n",
       "      <th>CASEREPORTED_DATE</th>\n",
       "      <th>PHUCITY</th>\n",
       "      <th>TESTREPORTED_DATE</th>\n",
       "      <th>CASEACQUISITION_INFO</th>\n",
       "      <th>ACCURATEEPISODE_DT</th>\n",
       "      <th>PHU_ADDRESS</th>\n",
       "      <th>PHU_WEBSITE</th>\n",
       "      <th>OUTBREAKRELATED</th>\n",
       "      <th>PHU_LATITUDE</th>\n",
       "      <th>PHU_LONGITUDE</th>\n",
       "      <th>PHU_POSTAL_CODE</th>\n",
       "    </tr>\n",
       "  </thead>\n",
       "  <tbody>\n",
       "    <tr>\n",
       "      <th>0</th>\n",
       "      <td>Resolved</td>\n",
       "      <td>80s</td>\n",
       "      <td>FEMALE</td>\n",
       "      <td>Toronto Public Health</td>\n",
       "      <td>9/24/2020</td>\n",
       "      <td>2/6/2021</td>\n",
       "      <td>Toronto</td>\n",
       "      <td>2/6/2021</td>\n",
       "      <td>OB</td>\n",
       "      <td>1/26/2021</td>\n",
       "      <td>277 Victoria Street, 5th Floor</td>\n",
       "      <td>www.toronto.ca/community-people/health-wellnes...</td>\n",
       "      <td>Yes</td>\n",
       "      <td>43.656591</td>\n",
       "      <td>-79.379358</td>\n",
       "      <td>M5B 1W2</td>\n",
       "    </tr>\n",
       "    <tr>\n",
       "      <th>1</th>\n",
       "      <td>Resolved</td>\n",
       "      <td>&lt;20</td>\n",
       "      <td>MALE</td>\n",
       "      <td>Peel Public Health</td>\n",
       "      <td>12/24/2020</td>\n",
       "      <td>2/1/2021</td>\n",
       "      <td>Mississauga</td>\n",
       "      <td>2/1/2021</td>\n",
       "      <td>CC</td>\n",
       "      <td>1/29/2021</td>\n",
       "      <td>7120 Hurontario Street</td>\n",
       "      <td>www.peelregion.ca/health/</td>\n",
       "      <td>NaN</td>\n",
       "      <td>43.647471</td>\n",
       "      <td>-79.708893</td>\n",
       "      <td>L5W 1N4</td>\n",
       "    </tr>\n",
       "    <tr>\n",
       "      <th>2</th>\n",
       "      <td>Resolved</td>\n",
       "      <td>20s</td>\n",
       "      <td>MALE</td>\n",
       "      <td>Lambton Public Health</td>\n",
       "      <td>9/23/2020</td>\n",
       "      <td>1/15/2021</td>\n",
       "      <td>Point Edward</td>\n",
       "      <td>1/14/2021</td>\n",
       "      <td>CC</td>\n",
       "      <td>1/10/2021</td>\n",
       "      <td>160 Exmouth Street</td>\n",
       "      <td>www.lambtonhealth.on.ca</td>\n",
       "      <td>Yes</td>\n",
       "      <td>42.986416</td>\n",
       "      <td>-82.404808</td>\n",
       "      <td>N7T 7Z6</td>\n",
       "    </tr>\n",
       "    <tr>\n",
       "      <th>3</th>\n",
       "      <td>Resolved</td>\n",
       "      <td>20s</td>\n",
       "      <td>MALE</td>\n",
       "      <td>Region of Waterloo, Public Health</td>\n",
       "      <td>9/20/2020</td>\n",
       "      <td>12/29/2020</td>\n",
       "      <td>Waterloo</td>\n",
       "      <td>9/23/2020</td>\n",
       "      <td>NO KNOWN EPI LINK</td>\n",
       "      <td>9/20/2020</td>\n",
       "      <td>99 Regina Street South</td>\n",
       "      <td>www.regionofwaterloo.ca</td>\n",
       "      <td>NaN</td>\n",
       "      <td>43.462876</td>\n",
       "      <td>-80.520913</td>\n",
       "      <td>N2J 4V3</td>\n",
       "    </tr>\n",
       "    <tr>\n",
       "      <th>4</th>\n",
       "      <td>Resolved</td>\n",
       "      <td>20s</td>\n",
       "      <td>FEMALE</td>\n",
       "      <td>Ottawa Public Health</td>\n",
       "      <td>9/21/2020</td>\n",
       "      <td>12/24/2020</td>\n",
       "      <td>Ottawa</td>\n",
       "      <td>9/22/2020</td>\n",
       "      <td>CC</td>\n",
       "      <td>9/21/2020</td>\n",
       "      <td>100 Constellation Drive</td>\n",
       "      <td>www.ottawapublichealth.ca</td>\n",
       "      <td>NaN</td>\n",
       "      <td>45.345665</td>\n",
       "      <td>-75.763912</td>\n",
       "      <td>K2G 6J8</td>\n",
       "    </tr>\n",
       "  </tbody>\n",
       "</table>\n",
       "</div>"
      ],
      "text/plain": [
       "    OUTCOME  AGE  GENDER                      REPORTING_PHU SPECIMENDATE  \\\n",
       "0  Resolved  80s  FEMALE              Toronto Public Health    9/24/2020   \n",
       "1  Resolved  <20    MALE                 Peel Public Health   12/24/2020   \n",
       "2  Resolved  20s    MALE              Lambton Public Health    9/23/2020   \n",
       "3  Resolved  20s    MALE  Region of Waterloo, Public Health    9/20/2020   \n",
       "4  Resolved  20s  FEMALE               Ottawa Public Health    9/21/2020   \n",
       "\n",
       "  CASEREPORTED_DATE       PHUCITY TESTREPORTED_DATE CASEACQUISITION_INFO  \\\n",
       "0          2/6/2021       Toronto          2/6/2021                   OB   \n",
       "1          2/1/2021   Mississauga          2/1/2021                   CC   \n",
       "2         1/15/2021  Point Edward         1/14/2021                   CC   \n",
       "3        12/29/2020      Waterloo         9/23/2020    NO KNOWN EPI LINK   \n",
       "4        12/24/2020        Ottawa         9/22/2020                   CC   \n",
       "\n",
       "  ACCURATEEPISODE_DT                     PHU_ADDRESS  \\\n",
       "0          1/26/2021  277 Victoria Street, 5th Floor   \n",
       "1          1/29/2021          7120 Hurontario Street   \n",
       "2          1/10/2021              160 Exmouth Street   \n",
       "3          9/20/2020          99 Regina Street South   \n",
       "4          9/21/2020         100 Constellation Drive   \n",
       "\n",
       "                                         PHU_WEBSITE OUTBREAKRELATED  \\\n",
       "0  www.toronto.ca/community-people/health-wellnes...             Yes   \n",
       "1                          www.peelregion.ca/health/             NaN   \n",
       "2                            www.lambtonhealth.on.ca             Yes   \n",
       "3                            www.regionofwaterloo.ca             NaN   \n",
       "4                          www.ottawapublichealth.ca             NaN   \n",
       "\n",
       "   PHU_LATITUDE  PHU_LONGITUDE PHU_POSTAL_CODE  \n",
       "0     43.656591     -79.379358         M5B 1W2  \n",
       "1     43.647471     -79.708893         L5W 1N4  \n",
       "2     42.986416     -82.404808         N7T 7Z6  \n",
       "3     43.462876     -80.520913         N2J 4V3  \n",
       "4     45.345665     -75.763912         K2G 6J8  "
      ]
     },
     "execution_count": 164,
     "metadata": {},
     "output_type": "execute_result"
    }
   ],
   "source": [
    "# Đọc dữ liệu\n",
    "f_path = 'Datasource/Cases Report.csv'\n",
    "case_report_df = pd.read_csv(f_path)\n",
    "\n",
    "# Chuẩn hóa tên cột\n",
    "header_list = case_report_df.columns.str.title()\n",
    "case_report_df.columns = [header.replace(' ','_').upper() for header in header_list]\n",
    "\n",
    "# Xem thử dữ liệu\n",
    "case_report_df.head()"
   ]
  },
  {
   "cell_type": "markdown",
   "metadata": {},
   "source": [
    "### Xem thông tin số dòng và các cột của bảng"
   ]
  },
  {
   "cell_type": "code",
   "execution_count": 165,
   "metadata": {},
   "outputs": [
    {
     "name": "stdout",
     "output_type": "stream",
     "text": [
      "<class 'pandas.core.frame.DataFrame'>\n",
      "RangeIndex: 28500 entries, 0 to 28499\n",
      "Data columns (total 16 columns):\n",
      " #   Column                Non-Null Count  Dtype  \n",
      "---  ------                --------------  -----  \n",
      " 0   OUTCOME               28500 non-null  object \n",
      " 1   AGE                   28500 non-null  object \n",
      " 2   GENDER                28500 non-null  object \n",
      " 3   REPORTING_PHU         28500 non-null  object \n",
      " 4   SPECIMENDATE          28292 non-null  object \n",
      " 5   CASEREPORTED_DATE     28500 non-null  object \n",
      " 6   PHUCITY               28500 non-null  object \n",
      " 7   TESTREPORTED_DATE     28082 non-null  object \n",
      " 8   CASEACQUISITION_INFO  28500 non-null  object \n",
      " 9   ACCURATEEPISODE_DT    28500 non-null  object \n",
      " 10  PHU_ADDRESS           28500 non-null  object \n",
      " 11  PHU_WEBSITE           28500 non-null  object \n",
      " 12  OUTBREAKRELATED       8710 non-null   object \n",
      " 13  PHU_LATITUDE          28500 non-null  float64\n",
      " 14  PHU_LONGITUDE         28500 non-null  float64\n",
      " 15  PHU_POSTAL_CODE       28500 non-null  object \n",
      "dtypes: float64(2), object(14)\n",
      "memory usage: 3.5+ MB\n"
     ]
    }
   ],
   "source": [
    "case_report_df.info()"
   ]
  },
  {
   "cell_type": "markdown",
   "metadata": {},
   "source": [
    "$\\rightarrow$ **Kết quả:** Có tổng cộng 28500 dòng dữ liệu. Các cột `SpecimenDate`, `TestReportedDate` và `OutbreakRelated` còn khuyết dữ liệu."
   ]
  },
  {
   "cell_type": "markdown",
   "metadata": {},
   "source": [
    "### Kiểm tra dữ liệu bị duplicated và xử lí"
   ]
  },
  {
   "cell_type": "code",
   "execution_count": 166,
   "metadata": {},
   "outputs": [
    {
     "data": {
      "text/html": [
       "<div>\n",
       "<style scoped>\n",
       "    .dataframe tbody tr th:only-of-type {\n",
       "        vertical-align: middle;\n",
       "    }\n",
       "\n",
       "    .dataframe tbody tr th {\n",
       "        vertical-align: top;\n",
       "    }\n",
       "\n",
       "    .dataframe thead th {\n",
       "        text-align: right;\n",
       "    }\n",
       "</style>\n",
       "<table border=\"1\" class=\"dataframe\">\n",
       "  <thead>\n",
       "    <tr style=\"text-align: right;\">\n",
       "      <th></th>\n",
       "      <th>OUTCOME</th>\n",
       "      <th>AGE</th>\n",
       "      <th>GENDER</th>\n",
       "      <th>REPORTING_PHU</th>\n",
       "      <th>SPECIMENDATE</th>\n",
       "      <th>CASEREPORTED_DATE</th>\n",
       "      <th>PHUCITY</th>\n",
       "      <th>TESTREPORTED_DATE</th>\n",
       "      <th>CASEACQUISITION_INFO</th>\n",
       "      <th>ACCURATEEPISODE_DT</th>\n",
       "      <th>PHU_ADDRESS</th>\n",
       "      <th>PHU_WEBSITE</th>\n",
       "      <th>OUTBREAKRELATED</th>\n",
       "      <th>PHU_LATITUDE</th>\n",
       "      <th>PHU_LONGITUDE</th>\n",
       "      <th>PHU_POSTAL_CODE</th>\n",
       "    </tr>\n",
       "  </thead>\n",
       "  <tbody>\n",
       "    <tr>\n",
       "      <th>105</th>\n",
       "      <td>Resolved</td>\n",
       "      <td>&lt;20</td>\n",
       "      <td>FEMALE</td>\n",
       "      <td>Hamilton Public Health Services</td>\n",
       "      <td>10/6/2020</td>\n",
       "      <td>10/9/2020</td>\n",
       "      <td>Hamilton</td>\n",
       "      <td>10/9/2020</td>\n",
       "      <td>CC</td>\n",
       "      <td>10/6/2020</td>\n",
       "      <td>110 King St. West, 2nd Floor</td>\n",
       "      <td>www.hamilton.ca/publichealth</td>\n",
       "      <td>NaN</td>\n",
       "      <td>43.257631</td>\n",
       "      <td>-79.871341</td>\n",
       "      <td>L8P 4S6</td>\n",
       "    </tr>\n",
       "    <tr>\n",
       "      <th>115</th>\n",
       "      <td>Resolved</td>\n",
       "      <td>20s</td>\n",
       "      <td>FEMALE</td>\n",
       "      <td>Peel Public Health</td>\n",
       "      <td>10/3/2020</td>\n",
       "      <td>10/9/2020</td>\n",
       "      <td>Mississauga</td>\n",
       "      <td>10/9/2020</td>\n",
       "      <td>CC</td>\n",
       "      <td>10/3/2020</td>\n",
       "      <td>7120 Hurontario Street</td>\n",
       "      <td>www.peelregion.ca/health/</td>\n",
       "      <td>NaN</td>\n",
       "      <td>43.647471</td>\n",
       "      <td>-79.708893</td>\n",
       "      <td>L5W 1N4</td>\n",
       "    </tr>\n",
       "    <tr>\n",
       "      <th>134</th>\n",
       "      <td>Resolved</td>\n",
       "      <td>20s</td>\n",
       "      <td>MALE</td>\n",
       "      <td>Peel Public Health</td>\n",
       "      <td>10/3/2020</td>\n",
       "      <td>10/9/2020</td>\n",
       "      <td>Mississauga</td>\n",
       "      <td>10/9/2020</td>\n",
       "      <td>CC</td>\n",
       "      <td>10/3/2020</td>\n",
       "      <td>7120 Hurontario Street</td>\n",
       "      <td>www.peelregion.ca/health/</td>\n",
       "      <td>NaN</td>\n",
       "      <td>43.647471</td>\n",
       "      <td>-79.708893</td>\n",
       "      <td>L5W 1N4</td>\n",
       "    </tr>\n",
       "    <tr>\n",
       "      <th>162</th>\n",
       "      <td>Resolved</td>\n",
       "      <td>30s</td>\n",
       "      <td>FEMALE</td>\n",
       "      <td>Peel Public Health</td>\n",
       "      <td>10/7/2020</td>\n",
       "      <td>10/9/2020</td>\n",
       "      <td>Mississauga</td>\n",
       "      <td>10/9/2020</td>\n",
       "      <td>CC</td>\n",
       "      <td>10/7/2020</td>\n",
       "      <td>7120 Hurontario Street</td>\n",
       "      <td>www.peelregion.ca/health/</td>\n",
       "      <td>NaN</td>\n",
       "      <td>43.647471</td>\n",
       "      <td>-79.708893</td>\n",
       "      <td>L5W 1N4</td>\n",
       "    </tr>\n",
       "    <tr>\n",
       "      <th>197</th>\n",
       "      <td>Resolved</td>\n",
       "      <td>&lt;20</td>\n",
       "      <td>FEMALE</td>\n",
       "      <td>Hamilton Public Health Services</td>\n",
       "      <td>10/6/2020</td>\n",
       "      <td>10/8/2020</td>\n",
       "      <td>Hamilton</td>\n",
       "      <td>10/8/2020</td>\n",
       "      <td>OB</td>\n",
       "      <td>10/4/2020</td>\n",
       "      <td>110 King St. West, 2nd Floor</td>\n",
       "      <td>www.hamilton.ca/publichealth</td>\n",
       "      <td>Yes</td>\n",
       "      <td>43.257631</td>\n",
       "      <td>-79.871341</td>\n",
       "      <td>L8P 4S6</td>\n",
       "    </tr>\n",
       "    <tr>\n",
       "      <th>...</th>\n",
       "      <td>...</td>\n",
       "      <td>...</td>\n",
       "      <td>...</td>\n",
       "      <td>...</td>\n",
       "      <td>...</td>\n",
       "      <td>...</td>\n",
       "      <td>...</td>\n",
       "      <td>...</td>\n",
       "      <td>...</td>\n",
       "      <td>...</td>\n",
       "      <td>...</td>\n",
       "      <td>...</td>\n",
       "      <td>...</td>\n",
       "      <td>...</td>\n",
       "      <td>...</td>\n",
       "      <td>...</td>\n",
       "    </tr>\n",
       "    <tr>\n",
       "      <th>27070</th>\n",
       "      <td>Resolved</td>\n",
       "      <td>30s</td>\n",
       "      <td>FEMALE</td>\n",
       "      <td>Peel Public Health</td>\n",
       "      <td>3/28/2020</td>\n",
       "      <td>3/30/2020</td>\n",
       "      <td>Mississauga</td>\n",
       "      <td>3/30/2020</td>\n",
       "      <td>CC</td>\n",
       "      <td>3/23/2020</td>\n",
       "      <td>7120 Hurontario Street</td>\n",
       "      <td>www.peelregion.ca/health/</td>\n",
       "      <td>NaN</td>\n",
       "      <td>43.647471</td>\n",
       "      <td>-79.708893</td>\n",
       "      <td>L5W 1N4</td>\n",
       "    </tr>\n",
       "    <tr>\n",
       "      <th>27102</th>\n",
       "      <td>Resolved</td>\n",
       "      <td>40s</td>\n",
       "      <td>MALE</td>\n",
       "      <td>York Region Public Health Services</td>\n",
       "      <td>3/26/2020</td>\n",
       "      <td>3/30/2020</td>\n",
       "      <td>Newmarket</td>\n",
       "      <td>3/30/2020</td>\n",
       "      <td>NO KNOWN EPI LINK</td>\n",
       "      <td>3/19/2020</td>\n",
       "      <td>17250 Yonge Street</td>\n",
       "      <td>www.york.ca/wps/portal/yorkhome/health/</td>\n",
       "      <td>NaN</td>\n",
       "      <td>44.048023</td>\n",
       "      <td>-79.480239</td>\n",
       "      <td>L3Y 6Z1</td>\n",
       "    </tr>\n",
       "    <tr>\n",
       "      <th>27509</th>\n",
       "      <td>Resolved</td>\n",
       "      <td>20s</td>\n",
       "      <td>FEMALE</td>\n",
       "      <td>Peel Public Health</td>\n",
       "      <td>3/25/2020</td>\n",
       "      <td>3/28/2020</td>\n",
       "      <td>Mississauga</td>\n",
       "      <td>3/28/2020</td>\n",
       "      <td>CC</td>\n",
       "      <td>3/24/2020</td>\n",
       "      <td>7120 Hurontario Street</td>\n",
       "      <td>www.peelregion.ca/health/</td>\n",
       "      <td>NaN</td>\n",
       "      <td>43.647471</td>\n",
       "      <td>-79.708893</td>\n",
       "      <td>L5W 1N4</td>\n",
       "    </tr>\n",
       "    <tr>\n",
       "      <th>27720</th>\n",
       "      <td>Resolved</td>\n",
       "      <td>60s</td>\n",
       "      <td>FEMALE</td>\n",
       "      <td>Peel Public Health</td>\n",
       "      <td>3/21/2020</td>\n",
       "      <td>3/27/2020</td>\n",
       "      <td>Mississauga</td>\n",
       "      <td>3/27/2020</td>\n",
       "      <td>CC</td>\n",
       "      <td>3/14/2020</td>\n",
       "      <td>7120 Hurontario Street</td>\n",
       "      <td>www.peelregion.ca/health/</td>\n",
       "      <td>NaN</td>\n",
       "      <td>43.647471</td>\n",
       "      <td>-79.708893</td>\n",
       "      <td>L5W 1N4</td>\n",
       "    </tr>\n",
       "    <tr>\n",
       "      <th>27786</th>\n",
       "      <td>Resolved</td>\n",
       "      <td>30s</td>\n",
       "      <td>MALE</td>\n",
       "      <td>Peel Public Health</td>\n",
       "      <td>3/20/2020</td>\n",
       "      <td>3/26/2020</td>\n",
       "      <td>Mississauga</td>\n",
       "      <td>3/26/2020</td>\n",
       "      <td>NO KNOWN EPI LINK</td>\n",
       "      <td>3/17/2020</td>\n",
       "      <td>7120 Hurontario Street</td>\n",
       "      <td>www.peelregion.ca/health/</td>\n",
       "      <td>NaN</td>\n",
       "      <td>43.647471</td>\n",
       "      <td>-79.708893</td>\n",
       "      <td>L5W 1N4</td>\n",
       "    </tr>\n",
       "  </tbody>\n",
       "</table>\n",
       "<p>1528 rows × 16 columns</p>\n",
       "</div>"
      ],
      "text/plain": [
       "        OUTCOME  AGE  GENDER                       REPORTING_PHU SPECIMENDATE  \\\n",
       "105    Resolved  <20  FEMALE     Hamilton Public Health Services    10/6/2020   \n",
       "115    Resolved  20s  FEMALE                  Peel Public Health    10/3/2020   \n",
       "134    Resolved  20s    MALE                  Peel Public Health    10/3/2020   \n",
       "162    Resolved  30s  FEMALE                  Peel Public Health    10/7/2020   \n",
       "197    Resolved  <20  FEMALE     Hamilton Public Health Services    10/6/2020   \n",
       "...         ...  ...     ...                                 ...          ...   \n",
       "27070  Resolved  30s  FEMALE                  Peel Public Health    3/28/2020   \n",
       "27102  Resolved  40s    MALE  York Region Public Health Services    3/26/2020   \n",
       "27509  Resolved  20s  FEMALE                  Peel Public Health    3/25/2020   \n",
       "27720  Resolved  60s  FEMALE                  Peel Public Health    3/21/2020   \n",
       "27786  Resolved  30s    MALE                  Peel Public Health    3/20/2020   \n",
       "\n",
       "      CASEREPORTED_DATE      PHUCITY TESTREPORTED_DATE CASEACQUISITION_INFO  \\\n",
       "105           10/9/2020     Hamilton         10/9/2020                   CC   \n",
       "115           10/9/2020  Mississauga         10/9/2020                   CC   \n",
       "134           10/9/2020  Mississauga         10/9/2020                   CC   \n",
       "162           10/9/2020  Mississauga         10/9/2020                   CC   \n",
       "197           10/8/2020     Hamilton         10/8/2020                   OB   \n",
       "...                 ...          ...               ...                  ...   \n",
       "27070         3/30/2020  Mississauga         3/30/2020                   CC   \n",
       "27102         3/30/2020    Newmarket         3/30/2020    NO KNOWN EPI LINK   \n",
       "27509         3/28/2020  Mississauga         3/28/2020                   CC   \n",
       "27720         3/27/2020  Mississauga         3/27/2020                   CC   \n",
       "27786         3/26/2020  Mississauga         3/26/2020    NO KNOWN EPI LINK   \n",
       "\n",
       "      ACCURATEEPISODE_DT                   PHU_ADDRESS  \\\n",
       "105            10/6/2020  110 King St. West, 2nd Floor   \n",
       "115            10/3/2020        7120 Hurontario Street   \n",
       "134            10/3/2020        7120 Hurontario Street   \n",
       "162            10/7/2020        7120 Hurontario Street   \n",
       "197            10/4/2020  110 King St. West, 2nd Floor   \n",
       "...                  ...                           ...   \n",
       "27070          3/23/2020        7120 Hurontario Street   \n",
       "27102          3/19/2020            17250 Yonge Street   \n",
       "27509          3/24/2020        7120 Hurontario Street   \n",
       "27720          3/14/2020        7120 Hurontario Street   \n",
       "27786          3/17/2020        7120 Hurontario Street   \n",
       "\n",
       "                                    PHU_WEBSITE OUTBREAKRELATED  PHU_LATITUDE  \\\n",
       "105                www.hamilton.ca/publichealth             NaN     43.257631   \n",
       "115                   www.peelregion.ca/health/             NaN     43.647471   \n",
       "134                   www.peelregion.ca/health/             NaN     43.647471   \n",
       "162                   www.peelregion.ca/health/             NaN     43.647471   \n",
       "197                www.hamilton.ca/publichealth             Yes     43.257631   \n",
       "...                                         ...             ...           ...   \n",
       "27070                 www.peelregion.ca/health/             NaN     43.647471   \n",
       "27102  www.york.ca/wps/portal/yorkhome/health/              NaN     44.048023   \n",
       "27509                 www.peelregion.ca/health/             NaN     43.647471   \n",
       "27720                 www.peelregion.ca/health/             NaN     43.647471   \n",
       "27786                 www.peelregion.ca/health/             NaN     43.647471   \n",
       "\n",
       "       PHU_LONGITUDE PHU_POSTAL_CODE  \n",
       "105       -79.871341         L8P 4S6  \n",
       "115       -79.708893         L5W 1N4  \n",
       "134       -79.708893         L5W 1N4  \n",
       "162       -79.708893         L5W 1N4  \n",
       "197       -79.871341         L8P 4S6  \n",
       "...              ...             ...  \n",
       "27070     -79.708893         L5W 1N4  \n",
       "27102     -79.480239         L3Y 6Z1  \n",
       "27509     -79.708893         L5W 1N4  \n",
       "27720     -79.708893         L5W 1N4  \n",
       "27786     -79.708893         L5W 1N4  \n",
       "\n",
       "[1528 rows x 16 columns]"
      ]
     },
     "execution_count": 166,
     "metadata": {},
     "output_type": "execute_result"
    }
   ],
   "source": [
    "# Kiểm tra các dòng bị trùng lắp\n",
    "case_report_df[case_report_df.duplicated()]"
   ]
  },
  {
   "cell_type": "markdown",
   "metadata": {},
   "source": [
    "$\\rightarrow$ **Kết quả:** Có tổng cộng 1528 dòng dữ liệu bị trùng lắp."
   ]
  },
  {
   "cell_type": "code",
   "execution_count": 167,
   "metadata": {},
   "outputs": [],
   "source": [
    "# Xử lí trùng lắp bằng cách xóa dòng\n",
    "case_report_df = case_report_df.drop_duplicates()"
   ]
  },
  {
   "cell_type": "code",
   "execution_count": 168,
   "metadata": {},
   "outputs": [
    {
     "data": {
      "text/html": [
       "<div>\n",
       "<style scoped>\n",
       "    .dataframe tbody tr th:only-of-type {\n",
       "        vertical-align: middle;\n",
       "    }\n",
       "\n",
       "    .dataframe tbody tr th {\n",
       "        vertical-align: top;\n",
       "    }\n",
       "\n",
       "    .dataframe thead th {\n",
       "        text-align: right;\n",
       "    }\n",
       "</style>\n",
       "<table border=\"1\" class=\"dataframe\">\n",
       "  <thead>\n",
       "    <tr style=\"text-align: right;\">\n",
       "      <th></th>\n",
       "      <th>OUTCOME</th>\n",
       "      <th>AGE</th>\n",
       "      <th>GENDER</th>\n",
       "      <th>REPORTING_PHU</th>\n",
       "      <th>SPECIMENDATE</th>\n",
       "      <th>CASEREPORTED_DATE</th>\n",
       "      <th>PHUCITY</th>\n",
       "      <th>TESTREPORTED_DATE</th>\n",
       "      <th>CASEACQUISITION_INFO</th>\n",
       "      <th>ACCURATEEPISODE_DT</th>\n",
       "      <th>PHU_ADDRESS</th>\n",
       "      <th>PHU_WEBSITE</th>\n",
       "      <th>OUTBREAKRELATED</th>\n",
       "      <th>PHU_LATITUDE</th>\n",
       "      <th>PHU_LONGITUDE</th>\n",
       "      <th>PHU_POSTAL_CODE</th>\n",
       "    </tr>\n",
       "  </thead>\n",
       "  <tbody>\n",
       "  </tbody>\n",
       "</table>\n",
       "</div>"
      ],
      "text/plain": [
       "Empty DataFrame\n",
       "Columns: [OUTCOME, AGE, GENDER, REPORTING_PHU, SPECIMENDATE, CASEREPORTED_DATE, PHUCITY, TESTREPORTED_DATE, CASEACQUISITION_INFO, ACCURATEEPISODE_DT, PHU_ADDRESS, PHU_WEBSITE, OUTBREAKRELATED, PHU_LATITUDE, PHU_LONGITUDE, PHU_POSTAL_CODE]\n",
       "Index: []"
      ]
     },
     "execution_count": 168,
     "metadata": {},
     "output_type": "execute_result"
    }
   ],
   "source": [
    "# Kiểm tra xem các dòng bị trùng lắp đã được xóa chưa\n",
    "case_report_df[case_report_df.duplicated()]"
   ]
  },
  {
   "cell_type": "markdown",
   "metadata": {},
   "source": [
    "$\\rightarrow$ **Kết quả:** Bảng `Cases Report` đã hết các dòng dữ liệu bị trùng lắp."
   ]
  },
  {
   "cell_type": "markdown",
   "metadata": {},
   "source": [
    "### Xuất dữ liệu hoàn chỉnh ra file source"
   ]
  },
  {
   "cell_type": "code",
   "execution_count": 169,
   "metadata": {},
   "outputs": [],
   "source": [
    "case_report_df.to_csv('Datasource_Cleaned/Case_Report.csv')"
   ]
  },
  {
   "cell_type": "markdown",
   "metadata": {},
   "source": [
    "## 2. Chuẩn bị dữ liệu `Compiled_COVID-19_Case_Details_(Canada)`"
   ]
  },
  {
   "cell_type": "markdown",
   "metadata": {},
   "source": [
    "### Đọc và xem bảng"
   ]
  },
  {
   "cell_type": "code",
   "execution_count": 170,
   "metadata": {},
   "outputs": [
    {
     "data": {
      "text/html": [
       "<div>\n",
       "<style scoped>\n",
       "    .dataframe tbody tr th:only-of-type {\n",
       "        vertical-align: middle;\n",
       "    }\n",
       "\n",
       "    .dataframe tbody tr th {\n",
       "        vertical-align: top;\n",
       "    }\n",
       "\n",
       "    .dataframe thead th {\n",
       "        text-align: right;\n",
       "    }\n",
       "</style>\n",
       "<table border=\"1\" class=\"dataframe\">\n",
       "  <thead>\n",
       "    <tr style=\"text-align: right;\">\n",
       "      <th></th>\n",
       "      <th>OBJECTID</th>\n",
       "      <th>ROW_ID</th>\n",
       "      <th>DATE_REPORTED</th>\n",
       "      <th>HEALTH_REGION</th>\n",
       "      <th>AGE_GROUP</th>\n",
       "      <th>GENDER</th>\n",
       "      <th>EXPOSURE</th>\n",
       "      <th>CASE_STATUS</th>\n",
       "      <th>PROVINCE</th>\n",
       "    </tr>\n",
       "  </thead>\n",
       "  <tbody>\n",
       "    <tr>\n",
       "      <th>0</th>\n",
       "      <td>1</td>\n",
       "      <td>500</td>\n",
       "      <td>2020/03/23 12:00:00+00</td>\n",
       "      <td>Peel Public Health</td>\n",
       "      <td>20-29</td>\n",
       "      <td>Female</td>\n",
       "      <td>Close Contact</td>\n",
       "      <td>Recovered</td>\n",
       "      <td>Ontario</td>\n",
       "    </tr>\n",
       "    <tr>\n",
       "      <th>1</th>\n",
       "      <td>2</td>\n",
       "      <td>501</td>\n",
       "      <td>2020/04/02 12:00:00+00</td>\n",
       "      <td>Peel Public Health</td>\n",
       "      <td>40-49</td>\n",
       "      <td>Female</td>\n",
       "      <td>Close Contact</td>\n",
       "      <td>Recovered</td>\n",
       "      <td>Ontario</td>\n",
       "    </tr>\n",
       "    <tr>\n",
       "      <th>2</th>\n",
       "      <td>3</td>\n",
       "      <td>502</td>\n",
       "      <td>2020/03/25 12:00:00+00</td>\n",
       "      <td>Kingston, Frontenac and Lennox &amp; Addington Pub...</td>\n",
       "      <td>30-39</td>\n",
       "      <td>Male</td>\n",
       "      <td>Close Contact</td>\n",
       "      <td>Recovered</td>\n",
       "      <td>Ontario</td>\n",
       "    </tr>\n",
       "    <tr>\n",
       "      <th>3</th>\n",
       "      <td>4</td>\n",
       "      <td>503</td>\n",
       "      <td>2020/03/28 12:00:00+00</td>\n",
       "      <td>Kingston, Frontenac and Lennox &amp; Addington Pub...</td>\n",
       "      <td>&lt;20</td>\n",
       "      <td>Female</td>\n",
       "      <td>Close Contact</td>\n",
       "      <td>Recovered</td>\n",
       "      <td>Ontario</td>\n",
       "    </tr>\n",
       "    <tr>\n",
       "      <th>4</th>\n",
       "      <td>5</td>\n",
       "      <td>504</td>\n",
       "      <td>2020/03/30 12:00:00+00</td>\n",
       "      <td>Peel Public Health</td>\n",
       "      <td>50-59</td>\n",
       "      <td>Male</td>\n",
       "      <td>Close Contact</td>\n",
       "      <td>Recovered</td>\n",
       "      <td>Ontario</td>\n",
       "    </tr>\n",
       "  </tbody>\n",
       "</table>\n",
       "</div>"
      ],
      "text/plain": [
       "   OBJECTID  ROW_ID           DATE_REPORTED  \\\n",
       "0         1     500  2020/03/23 12:00:00+00   \n",
       "1         2     501  2020/04/02 12:00:00+00   \n",
       "2         3     502  2020/03/25 12:00:00+00   \n",
       "3         4     503  2020/03/28 12:00:00+00   \n",
       "4         5     504  2020/03/30 12:00:00+00   \n",
       "\n",
       "                                       HEALTH_REGION AGE_GROUP  GENDER  \\\n",
       "0                                 Peel Public Health     20-29  Female   \n",
       "1                                 Peel Public Health     40-49  Female   \n",
       "2  Kingston, Frontenac and Lennox & Addington Pub...     30-39    Male   \n",
       "3  Kingston, Frontenac and Lennox & Addington Pub...       <20  Female   \n",
       "4                                 Peel Public Health     50-59    Male   \n",
       "\n",
       "        EXPOSURE CASE_STATUS PROVINCE  \n",
       "0  Close Contact   Recovered  Ontario  \n",
       "1  Close Contact   Recovered  Ontario  \n",
       "2  Close Contact   Recovered  Ontario  \n",
       "3  Close Contact   Recovered  Ontario  \n",
       "4  Close Contact   Recovered  Ontario  "
      ]
     },
     "execution_count": 170,
     "metadata": {},
     "output_type": "execute_result"
    }
   ],
   "source": [
    "# Đọc dữ liệu\n",
    "f_path = 'Datasource/Compiled_COVID-19_Case_Details_(Canada).csv'\n",
    "case_detail_df = pd.read_csv(f_path)\n",
    "\n",
    "# Chuẩn hóa tên cột\n",
    "header_list = case_detail_df.columns.str.title()\n",
    "case_detail_df.columns = [header.upper() for header in header_list]\n",
    "\n",
    "# Xem thử dữ liệu\n",
    "case_detail_df.head()"
   ]
  },
  {
   "cell_type": "markdown",
   "metadata": {},
   "source": [
    "### Xem thông tin số dòng và các cột của bảng"
   ]
  },
  {
   "cell_type": "code",
   "execution_count": 171,
   "metadata": {},
   "outputs": [
    {
     "name": "stdout",
     "output_type": "stream",
     "text": [
      "<class 'pandas.core.frame.DataFrame'>\n",
      "RangeIndex: 1048575 entries, 0 to 1048574\n",
      "Data columns (total 9 columns):\n",
      " #   Column         Non-Null Count    Dtype \n",
      "---  ------         --------------    ----- \n",
      " 0   OBJECTID       1048575 non-null  int64 \n",
      " 1   ROW_ID         1048575 non-null  int64 \n",
      " 2   DATE_REPORTED  1048575 non-null  object\n",
      " 3   HEALTH_REGION  1048575 non-null  object\n",
      " 4   AGE_GROUP      1048575 non-null  object\n",
      " 5   GENDER         1048575 non-null  object\n",
      " 6   EXPOSURE       1048575 non-null  object\n",
      " 7   CASE_STATUS    1048575 non-null  object\n",
      " 8   PROVINCE       1048575 non-null  object\n",
      "dtypes: int64(2), object(7)\n",
      "memory usage: 72.0+ MB\n"
     ]
    }
   ],
   "source": [
    "case_detail_df.info()"
   ]
  },
  {
   "cell_type": "markdown",
   "metadata": {},
   "source": [
    "$\\rightarrow$ **Kết quả:** Có tổng cộng 1048575 dòng dữ liệu và không có cột nào bị khuyết dữ liệu."
   ]
  },
  {
   "cell_type": "markdown",
   "metadata": {},
   "source": [
    "### Kiểm tra dữ liệu bị duplicated và xử lí"
   ]
  },
  {
   "cell_type": "code",
   "execution_count": 172,
   "metadata": {},
   "outputs": [
    {
     "data": {
      "text/html": [
       "<div>\n",
       "<style scoped>\n",
       "    .dataframe tbody tr th:only-of-type {\n",
       "        vertical-align: middle;\n",
       "    }\n",
       "\n",
       "    .dataframe tbody tr th {\n",
       "        vertical-align: top;\n",
       "    }\n",
       "\n",
       "    .dataframe thead th {\n",
       "        text-align: right;\n",
       "    }\n",
       "</style>\n",
       "<table border=\"1\" class=\"dataframe\">\n",
       "  <thead>\n",
       "    <tr style=\"text-align: right;\">\n",
       "      <th></th>\n",
       "      <th>OBJECTID</th>\n",
       "      <th>ROW_ID</th>\n",
       "      <th>DATE_REPORTED</th>\n",
       "      <th>HEALTH_REGION</th>\n",
       "      <th>AGE_GROUP</th>\n",
       "      <th>GENDER</th>\n",
       "      <th>EXPOSURE</th>\n",
       "      <th>CASE_STATUS</th>\n",
       "      <th>PROVINCE</th>\n",
       "    </tr>\n",
       "  </thead>\n",
       "  <tbody>\n",
       "  </tbody>\n",
       "</table>\n",
       "</div>"
      ],
      "text/plain": [
       "Empty DataFrame\n",
       "Columns: [OBJECTID, ROW_ID, DATE_REPORTED, HEALTH_REGION, AGE_GROUP, GENDER, EXPOSURE, CASE_STATUS, PROVINCE]\n",
       "Index: []"
      ]
     },
     "execution_count": 172,
     "metadata": {},
     "output_type": "execute_result"
    }
   ],
   "source": [
    "# Kiểm tra các dòng bị trùng lắp\n",
    "case_detail_df[case_detail_df.duplicated()]"
   ]
  },
  {
   "cell_type": "markdown",
   "metadata": {},
   "source": [
    "$\\rightarrow$ **Kết quả:** Không có dòng dữ liệu bị duplicated nên không cần xử lí."
   ]
  },
  {
   "cell_type": "markdown",
   "metadata": {},
   "source": [
    "### Xuất dữ liệu hoàn chỉnh ra file source"
   ]
  },
  {
   "cell_type": "code",
   "execution_count": 173,
   "metadata": {},
   "outputs": [],
   "source": [
    "case_detail_df.to_csv('Datasource_Cleaned/Case_Detail.csv')"
   ]
  },
  {
   "cell_type": "markdown",
   "metadata": {},
   "source": [
    "## 3. Chuẩn bị dữ liệu `ongoing_outbreaks_phu`"
   ]
  },
  {
   "cell_type": "markdown",
   "metadata": {},
   "source": [
    "### Đọc và xem bảng"
   ]
  },
  {
   "cell_type": "code",
   "execution_count": 174,
   "metadata": {},
   "outputs": [
    {
     "data": {
      "text/html": [
       "<div>\n",
       "<style scoped>\n",
       "    .dataframe tbody tr th:only-of-type {\n",
       "        vertical-align: middle;\n",
       "    }\n",
       "\n",
       "    .dataframe tbody tr th {\n",
       "        vertical-align: top;\n",
       "    }\n",
       "\n",
       "    .dataframe thead th {\n",
       "        text-align: right;\n",
       "    }\n",
       "</style>\n",
       "<table border=\"1\" class=\"dataframe\">\n",
       "  <thead>\n",
       "    <tr style=\"text-align: right;\">\n",
       "      <th></th>\n",
       "      <th>DATE</th>\n",
       "      <th>PHU_NUM</th>\n",
       "      <th>OUTBREAK_GROUP</th>\n",
       "      <th>NUMBER_ONGOING_OUTBREAKS</th>\n",
       "    </tr>\n",
       "  </thead>\n",
       "  <tbody>\n",
       "    <tr>\n",
       "      <th>0</th>\n",
       "      <td>11/1/2020</td>\n",
       "      <td>2227</td>\n",
       "      <td>1 Congregate Care</td>\n",
       "      <td>2</td>\n",
       "    </tr>\n",
       "    <tr>\n",
       "      <th>1</th>\n",
       "      <td>11/1/2020</td>\n",
       "      <td>2227</td>\n",
       "      <td>4 Workplace</td>\n",
       "      <td>1</td>\n",
       "    </tr>\n",
       "    <tr>\n",
       "      <th>2</th>\n",
       "      <td>11/1/2020</td>\n",
       "      <td>2240</td>\n",
       "      <td>4 Workplace</td>\n",
       "      <td>1</td>\n",
       "    </tr>\n",
       "    <tr>\n",
       "      <th>3</th>\n",
       "      <td>11/1/2020</td>\n",
       "      <td>2240</td>\n",
       "      <td>5 Recreational</td>\n",
       "      <td>1</td>\n",
       "    </tr>\n",
       "    <tr>\n",
       "      <th>4</th>\n",
       "      <td>11/1/2020</td>\n",
       "      <td>2240</td>\n",
       "      <td>6 Other/Unknown</td>\n",
       "      <td>1</td>\n",
       "    </tr>\n",
       "  </tbody>\n",
       "</table>\n",
       "</div>"
      ],
      "text/plain": [
       "        DATE  PHU_NUM     OUTBREAK_GROUP  NUMBER_ONGOING_OUTBREAKS\n",
       "0  11/1/2020     2227  1 Congregate Care                         2\n",
       "1  11/1/2020     2227        4 Workplace                         1\n",
       "2  11/1/2020     2240        4 Workplace                         1\n",
       "3  11/1/2020     2240     5 Recreational                         1\n",
       "4  11/1/2020     2240    6 Other/Unknown                         1"
      ]
     },
     "execution_count": 174,
     "metadata": {},
     "output_type": "execute_result"
    }
   ],
   "source": [
    "# Đọc dữ liệu\n",
    "f_path = 'Datasource/ongoing_outbreaks_phu.csv'\n",
    "ongoing_outbreak_df = pd.read_csv(f_path)\n",
    "\n",
    "# Chuẩn hóa tên cột\n",
    "header_list = ongoing_outbreak_df.columns.str.title()\n",
    "ongoing_outbreak_df.columns = [header.upper() for header in header_list]\n",
    "\n",
    "# Xem thử dữ liệu\n",
    "ongoing_outbreak_df.head()"
   ]
  },
  {
   "cell_type": "markdown",
   "metadata": {},
   "source": [
    "### Xem thông tin số dòng và các cột của bảng"
   ]
  },
  {
   "cell_type": "code",
   "execution_count": 175,
   "metadata": {},
   "outputs": [
    {
     "name": "stdout",
     "output_type": "stream",
     "text": [
      "<class 'pandas.core.frame.DataFrame'>\n",
      "RangeIndex: 56987 entries, 0 to 56986\n",
      "Data columns (total 4 columns):\n",
      " #   Column                    Non-Null Count  Dtype \n",
      "---  ------                    --------------  ----- \n",
      " 0   DATE                      56987 non-null  object\n",
      " 1   PHU_NUM                   56987 non-null  int64 \n",
      " 2   OUTBREAK_GROUP            56987 non-null  object\n",
      " 3   NUMBER_ONGOING_OUTBREAKS  56987 non-null  int64 \n",
      "dtypes: int64(2), object(2)\n",
      "memory usage: 1.7+ MB\n"
     ]
    }
   ],
   "source": [
    "ongoing_outbreak_df.info()"
   ]
  },
  {
   "cell_type": "markdown",
   "metadata": {},
   "source": [
    "$\\rightarrow$ **Kết quả:** Có tổng cộng 56987 dòng dữ liệu và không có cột nào bị khuyết dữ liệu."
   ]
  },
  {
   "cell_type": "markdown",
   "metadata": {},
   "source": [
    "### Kiểm tra dữ liệu bị duplicated và xử lí"
   ]
  },
  {
   "cell_type": "code",
   "execution_count": 176,
   "metadata": {},
   "outputs": [
    {
     "data": {
      "text/html": [
       "<div>\n",
       "<style scoped>\n",
       "    .dataframe tbody tr th:only-of-type {\n",
       "        vertical-align: middle;\n",
       "    }\n",
       "\n",
       "    .dataframe tbody tr th {\n",
       "        vertical-align: top;\n",
       "    }\n",
       "\n",
       "    .dataframe thead th {\n",
       "        text-align: right;\n",
       "    }\n",
       "</style>\n",
       "<table border=\"1\" class=\"dataframe\">\n",
       "  <thead>\n",
       "    <tr style=\"text-align: right;\">\n",
       "      <th></th>\n",
       "      <th>DATE</th>\n",
       "      <th>PHU_NUM</th>\n",
       "      <th>OUTBREAK_GROUP</th>\n",
       "      <th>NUMBER_ONGOING_OUTBREAKS</th>\n",
       "    </tr>\n",
       "  </thead>\n",
       "  <tbody>\n",
       "  </tbody>\n",
       "</table>\n",
       "</div>"
      ],
      "text/plain": [
       "Empty DataFrame\n",
       "Columns: [DATE, PHU_NUM, OUTBREAK_GROUP, NUMBER_ONGOING_OUTBREAKS]\n",
       "Index: []"
      ]
     },
     "execution_count": 176,
     "metadata": {},
     "output_type": "execute_result"
    }
   ],
   "source": [
    "# Kiểm tra các dòng bị trùng lắp\n",
    "ongoing_outbreak_df[ongoing_outbreak_df.duplicated()]"
   ]
  },
  {
   "cell_type": "markdown",
   "metadata": {},
   "source": [
    "$\\rightarrow$ **Kết quả:** Không có dòng dữ liệu bị duplicated nên không cần xử lí."
   ]
  },
  {
   "cell_type": "markdown",
   "metadata": {},
   "source": [
    "### Xuất dữ liệu hoàn chỉnh ra file source"
   ]
  },
  {
   "cell_type": "code",
   "execution_count": 177,
   "metadata": {},
   "outputs": [],
   "source": [
    "ongoing_outbreak_df.to_csv('Datasource_Cleaned/Ongoing_Outbreak.csv')"
   ]
  },
  {
   "cell_type": "markdown",
   "metadata": {},
   "source": [
    "## 4. Chuẩn bị dữ liệu `Public health unit`"
   ]
  },
  {
   "cell_type": "markdown",
   "metadata": {},
   "source": [
    "### Đọc và xem bảng"
   ]
  },
  {
   "cell_type": "code",
   "execution_count": 178,
   "metadata": {},
   "outputs": [
    {
     "data": {
      "text/html": [
       "<div>\n",
       "<style scoped>\n",
       "    .dataframe tbody tr th:only-of-type {\n",
       "        vertical-align: middle;\n",
       "    }\n",
       "\n",
       "    .dataframe tbody tr th {\n",
       "        vertical-align: top;\n",
       "    }\n",
       "\n",
       "    .dataframe thead th {\n",
       "        text-align: right;\n",
       "    }\n",
       "</style>\n",
       "<table border=\"1\" class=\"dataframe\">\n",
       "  <thead>\n",
       "    <tr style=\"text-align: right;\">\n",
       "      <th></th>\n",
       "      <th>PHU_ID</th>\n",
       "      <th>REPORTING_PHU</th>\n",
       "      <th>REPORTING_PHU_ADDRESS</th>\n",
       "      <th>REPORTING_PHU_CITY</th>\n",
       "      <th>REPORTING_PHU_POSTAL_CODE</th>\n",
       "      <th>REPORTING_PHU_WEBSITE</th>\n",
       "      <th>REPORTING_PHU_LATITUDE</th>\n",
       "      <th>REPORTING_PHU_LONGITUDE</th>\n",
       "    </tr>\n",
       "  </thead>\n",
       "  <tbody>\n",
       "    <tr>\n",
       "      <th>0</th>\n",
       "      <td>2244</td>\n",
       "      <td>Middlesex-London Health Unit</td>\n",
       "      <td>50 King Street</td>\n",
       "      <td>London</td>\n",
       "      <td>N6A 5L7</td>\n",
       "      <td>www.healthunit.com</td>\n",
       "      <td>4299571559</td>\n",
       "      <td>-814569832</td>\n",
       "    </tr>\n",
       "    <tr>\n",
       "      <th>1</th>\n",
       "      <td>2236</td>\n",
       "      <td>Halton Region Health Department</td>\n",
       "      <td>1151 Bronte Road</td>\n",
       "      <td>Oakville</td>\n",
       "      <td>L6M 3Ll</td>\n",
       "      <td>www.halton.ca/For-Residents/Public-Health/</td>\n",
       "      <td>4351209709</td>\n",
       "      <td>-7989050809</td>\n",
       "    </tr>\n",
       "    <tr>\n",
       "      <th>2</th>\n",
       "      <td>3895</td>\n",
       "      <td>Toronto Public Health</td>\n",
       "      <td>277 Victoria Street, 5th Floor</td>\n",
       "      <td>Toronto</td>\n",
       "      <td>M5B 1W2</td>\n",
       "      <td>www.toronto.ca/community-people/health-wellnes...</td>\n",
       "      <td>4372584482</td>\n",
       "      <td>-7938955775</td>\n",
       "    </tr>\n",
       "    <tr>\n",
       "      <th>3</th>\n",
       "      <td>5183</td>\n",
       "      <td>Huron Perth District Health Unit</td>\n",
       "      <td>653 West Gore Street</td>\n",
       "      <td>Stratford</td>\n",
       "      <td>N5A 1L4</td>\n",
       "      <td>www.hpph.ca</td>\n",
       "      <td>4360051407</td>\n",
       "      <td>-8128148453</td>\n",
       "    </tr>\n",
       "    <tr>\n",
       "      <th>4</th>\n",
       "      <td>2266</td>\n",
       "      <td>Wellington-Dufferin-Guelph Public Health</td>\n",
       "      <td>160 Chancellors Way</td>\n",
       "      <td>Guelph</td>\n",
       "      <td>N1G 0E1</td>\n",
       "      <td>www.wdgpublichealth.ca</td>\n",
       "      <td>4385364154</td>\n",
       "      <td>-8037208498</td>\n",
       "    </tr>\n",
       "  </tbody>\n",
       "</table>\n",
       "</div>"
      ],
      "text/plain": [
       "   PHU_ID                             REPORTING_PHU  \\\n",
       "0    2244              Middlesex-London Health Unit   \n",
       "1    2236           Halton Region Health Department   \n",
       "2    3895                     Toronto Public Health   \n",
       "3    5183          Huron Perth District Health Unit   \n",
       "4    2266  Wellington-Dufferin-Guelph Public Health   \n",
       "\n",
       "            REPORTING_PHU_ADDRESS REPORTING_PHU_CITY  \\\n",
       "0                  50 King Street             London   \n",
       "1                1151 Bronte Road           Oakville   \n",
       "2  277 Victoria Street, 5th Floor            Toronto   \n",
       "3            653 West Gore Street          Stratford   \n",
       "4             160 Chancellors Way             Guelph   \n",
       "\n",
       "  REPORTING_PHU_POSTAL_CODE  \\\n",
       "0                   N6A 5L7   \n",
       "1                   L6M 3Ll   \n",
       "2                   M5B 1W2   \n",
       "3                   N5A 1L4   \n",
       "4                   N1G 0E1   \n",
       "\n",
       "                               REPORTING_PHU_WEBSITE  REPORTING_PHU_LATITUDE  \\\n",
       "0                                 www.healthunit.com              4299571559   \n",
       "1         www.halton.ca/For-Residents/Public-Health/              4351209709   \n",
       "2  www.toronto.ca/community-people/health-wellnes...              4372584482   \n",
       "3                                        www.hpph.ca              4360051407   \n",
       "4                             www.wdgpublichealth.ca              4385364154   \n",
       "\n",
       "   REPORTING_PHU_LONGITUDE  \n",
       "0               -814569832  \n",
       "1              -7989050809  \n",
       "2              -7938955775  \n",
       "3              -8128148453  \n",
       "4              -8037208498  "
      ]
     },
     "execution_count": 178,
     "metadata": {},
     "output_type": "execute_result"
    }
   ],
   "source": [
    "# Đọc dữ liệu\n",
    "f_path = 'Datasource/Public health unit.xlsx'\n",
    "phu_df = pd.read_excel(f_path)\n",
    "\n",
    "# Chuẩn hóa tên cột\n",
    "header_list = phu_df.columns.str.title()\n",
    "phu_df.columns = [header.upper() for header in header_list]\n",
    "\n",
    "# Xem thử dữ liệu\n",
    "phu_df.head()"
   ]
  },
  {
   "cell_type": "markdown",
   "metadata": {},
   "source": [
    "### Xem thông tin số dòng và các cột của bảng"
   ]
  },
  {
   "cell_type": "code",
   "execution_count": 179,
   "metadata": {},
   "outputs": [
    {
     "name": "stdout",
     "output_type": "stream",
     "text": [
      "<class 'pandas.core.frame.DataFrame'>\n",
      "RangeIndex: 35 entries, 0 to 34\n",
      "Data columns (total 8 columns):\n",
      " #   Column                     Non-Null Count  Dtype \n",
      "---  ------                     --------------  ----- \n",
      " 0   PHU_ID                     35 non-null     int64 \n",
      " 1   REPORTING_PHU              35 non-null     object\n",
      " 2   REPORTING_PHU_ADDRESS      35 non-null     object\n",
      " 3   REPORTING_PHU_CITY         35 non-null     object\n",
      " 4   REPORTING_PHU_POSTAL_CODE  35 non-null     object\n",
      " 5   REPORTING_PHU_WEBSITE      35 non-null     object\n",
      " 6   REPORTING_PHU_LATITUDE     35 non-null     int64 \n",
      " 7   REPORTING_PHU_LONGITUDE    35 non-null     int64 \n",
      "dtypes: int64(3), object(5)\n",
      "memory usage: 2.3+ KB\n"
     ]
    }
   ],
   "source": [
    "phu_df.info()"
   ]
  },
  {
   "cell_type": "markdown",
   "metadata": {},
   "source": [
    "$\\rightarrow$ **Kết quả:** Có tổng cộng 35 dòng dữ liệu và không có cột nào bị khuyết dữ liệu."
   ]
  },
  {
   "cell_type": "markdown",
   "metadata": {},
   "source": [
    "### Kiểm tra dữ liệu bị duplicated và xử lí"
   ]
  },
  {
   "cell_type": "code",
   "execution_count": 180,
   "metadata": {},
   "outputs": [
    {
     "data": {
      "text/html": [
       "<div>\n",
       "<style scoped>\n",
       "    .dataframe tbody tr th:only-of-type {\n",
       "        vertical-align: middle;\n",
       "    }\n",
       "\n",
       "    .dataframe tbody tr th {\n",
       "        vertical-align: top;\n",
       "    }\n",
       "\n",
       "    .dataframe thead th {\n",
       "        text-align: right;\n",
       "    }\n",
       "</style>\n",
       "<table border=\"1\" class=\"dataframe\">\n",
       "  <thead>\n",
       "    <tr style=\"text-align: right;\">\n",
       "      <th></th>\n",
       "      <th>PHU_ID</th>\n",
       "      <th>REPORTING_PHU</th>\n",
       "      <th>REPORTING_PHU_ADDRESS</th>\n",
       "      <th>REPORTING_PHU_CITY</th>\n",
       "      <th>REPORTING_PHU_POSTAL_CODE</th>\n",
       "      <th>REPORTING_PHU_WEBSITE</th>\n",
       "      <th>REPORTING_PHU_LATITUDE</th>\n",
       "      <th>REPORTING_PHU_LONGITUDE</th>\n",
       "    </tr>\n",
       "  </thead>\n",
       "  <tbody>\n",
       "    <tr>\n",
       "      <th>34</th>\n",
       "      <td>2244</td>\n",
       "      <td>Middlesex-London Health Unit</td>\n",
       "      <td>50 King Street</td>\n",
       "      <td>London</td>\n",
       "      <td>N6A 5L7</td>\n",
       "      <td>www.healthunit.com</td>\n",
       "      <td>4299571559</td>\n",
       "      <td>-814569832</td>\n",
       "    </tr>\n",
       "  </tbody>\n",
       "</table>\n",
       "</div>"
      ],
      "text/plain": [
       "    PHU_ID                 REPORTING_PHU REPORTING_PHU_ADDRESS  \\\n",
       "34    2244  Middlesex-London Health Unit        50 King Street   \n",
       "\n",
       "   REPORTING_PHU_CITY REPORTING_PHU_POSTAL_CODE REPORTING_PHU_WEBSITE  \\\n",
       "34             London                   N6A 5L7    www.healthunit.com   \n",
       "\n",
       "    REPORTING_PHU_LATITUDE  REPORTING_PHU_LONGITUDE  \n",
       "34              4299571559               -814569832  "
      ]
     },
     "execution_count": 180,
     "metadata": {},
     "output_type": "execute_result"
    }
   ],
   "source": [
    "# Kiểm tra các dòng bị trùng lắp\n",
    "phu_df[phu_df.duplicated()]"
   ]
  },
  {
   "cell_type": "markdown",
   "metadata": {},
   "source": [
    "$\\rightarrow$ **Kết quả:** Có tổng cộng 1 dòng dữ liệu bị trùng lắp."
   ]
  },
  {
   "cell_type": "code",
   "execution_count": 181,
   "metadata": {},
   "outputs": [],
   "source": [
    "# Xử lí trùng lắp bằng cách xóa dòng\n",
    "phu_df = phu_df.drop_duplicates()"
   ]
  },
  {
   "cell_type": "code",
   "execution_count": 182,
   "metadata": {},
   "outputs": [
    {
     "data": {
      "text/html": [
       "<div>\n",
       "<style scoped>\n",
       "    .dataframe tbody tr th:only-of-type {\n",
       "        vertical-align: middle;\n",
       "    }\n",
       "\n",
       "    .dataframe tbody tr th {\n",
       "        vertical-align: top;\n",
       "    }\n",
       "\n",
       "    .dataframe thead th {\n",
       "        text-align: right;\n",
       "    }\n",
       "</style>\n",
       "<table border=\"1\" class=\"dataframe\">\n",
       "  <thead>\n",
       "    <tr style=\"text-align: right;\">\n",
       "      <th></th>\n",
       "      <th>PHU_ID</th>\n",
       "      <th>REPORTING_PHU</th>\n",
       "      <th>REPORTING_PHU_ADDRESS</th>\n",
       "      <th>REPORTING_PHU_CITY</th>\n",
       "      <th>REPORTING_PHU_POSTAL_CODE</th>\n",
       "      <th>REPORTING_PHU_WEBSITE</th>\n",
       "      <th>REPORTING_PHU_LATITUDE</th>\n",
       "      <th>REPORTING_PHU_LONGITUDE</th>\n",
       "    </tr>\n",
       "  </thead>\n",
       "  <tbody>\n",
       "  </tbody>\n",
       "</table>\n",
       "</div>"
      ],
      "text/plain": [
       "Empty DataFrame\n",
       "Columns: [PHU_ID, REPORTING_PHU, REPORTING_PHU_ADDRESS, REPORTING_PHU_CITY, REPORTING_PHU_POSTAL_CODE, REPORTING_PHU_WEBSITE, REPORTING_PHU_LATITUDE, REPORTING_PHU_LONGITUDE]\n",
       "Index: []"
      ]
     },
     "execution_count": 182,
     "metadata": {},
     "output_type": "execute_result"
    }
   ],
   "source": [
    "# Kiểm tra xem các dòng bị trùng lắp đã được xóa chưa\n",
    "phu_df[phu_df.duplicated()]"
   ]
  },
  {
   "cell_type": "markdown",
   "metadata": {},
   "source": [
    "$\\rightarrow$ **Kết quả:** Bảng `Public Health Unit` đã hết các dòng dữ liệu bị trùng lắp."
   ]
  },
  {
   "cell_type": "markdown",
   "metadata": {},
   "source": [
    "### Xuất dữ liệu hoàn chỉnh ra file source"
   ]
  },
  {
   "cell_type": "code",
   "execution_count": 183,
   "metadata": {},
   "outputs": [],
   "source": [
    "phu_df.to_csv('Datasource_Cleaned/Public_Health_Unit.csv')"
   ]
  },
  {
   "cell_type": "markdown",
   "metadata": {},
   "source": [
    "## 5. Chuẩn bị dữ liệu `Public Health Units GROUP`"
   ]
  },
  {
   "cell_type": "markdown",
   "metadata": {},
   "source": [
    "### Đọc và xem bảng"
   ]
  },
  {
   "cell_type": "code",
   "execution_count": 184,
   "metadata": {},
   "outputs": [
    {
     "data": {
      "text/html": [
       "<div>\n",
       "<style scoped>\n",
       "    .dataframe tbody tr th:only-of-type {\n",
       "        vertical-align: middle;\n",
       "    }\n",
       "\n",
       "    .dataframe tbody tr th {\n",
       "        vertical-align: top;\n",
       "    }\n",
       "\n",
       "    .dataframe thead th {\n",
       "        text-align: right;\n",
       "    }\n",
       "</style>\n",
       "<table border=\"1\" class=\"dataframe\">\n",
       "  <thead>\n",
       "    <tr style=\"text-align: right;\">\n",
       "      <th></th>\n",
       "      <th>PHU_GROUP</th>\n",
       "      <th>PHU_CITY</th>\n",
       "      <th>PHU_REGION</th>\n",
       "    </tr>\n",
       "  </thead>\n",
       "  <tbody>\n",
       "    <tr>\n",
       "      <th>0</th>\n",
       "      <td>Central</td>\n",
       "      <td>Toronto</td>\n",
       "      <td>Toronto Public Health</td>\n",
       "    </tr>\n",
       "    <tr>\n",
       "      <th>1</th>\n",
       "      <td>Central</td>\n",
       "      <td>Newmarket</td>\n",
       "      <td>York Region Public Health Services</td>\n",
       "    </tr>\n",
       "    <tr>\n",
       "      <th>2</th>\n",
       "      <td>Central East</td>\n",
       "      <td>Durham Region</td>\n",
       "      <td>Durham Region Health Department</td>\n",
       "    </tr>\n",
       "    <tr>\n",
       "      <th>3</th>\n",
       "      <td>Central East</td>\n",
       "      <td>Port Hope</td>\n",
       "      <td>Haliburton, Kawartha, Pine Ridge District Heal...</td>\n",
       "    </tr>\n",
       "    <tr>\n",
       "      <th>4</th>\n",
       "      <td>Central East</td>\n",
       "      <td>Peterborough</td>\n",
       "      <td>Peterborough Public Health</td>\n",
       "    </tr>\n",
       "  </tbody>\n",
       "</table>\n",
       "</div>"
      ],
      "text/plain": [
       "      PHU_GROUP       PHU_CITY  \\\n",
       "0       Central        Toronto   \n",
       "1       Central      Newmarket   \n",
       "2  Central East  Durham Region   \n",
       "3  Central East      Port Hope   \n",
       "4  Central East   Peterborough   \n",
       "\n",
       "                                          PHU_REGION  \n",
       "0                              Toronto Public Health  \n",
       "1                 York Region Public Health Services  \n",
       "2                    Durham Region Health Department  \n",
       "3  Haliburton, Kawartha, Pine Ridge District Heal...  \n",
       "4                         Peterborough Public Health  "
      ]
     },
     "execution_count": 184,
     "metadata": {},
     "output_type": "execute_result"
    }
   ],
   "source": [
    "# Đọc dữ liệu\n",
    "f_path = 'Datasource/Public Health Units GROUP.xlsx'\n",
    "phu_group_df = pd.read_excel(f_path)\n",
    "\n",
    "# Chuẩn hóa tên cột\n",
    "header_list = phu_group_df.columns.str.title()\n",
    "phu_group_df.columns = [header.upper() for header in header_list]\n",
    "\n",
    "# Xem thử dữ liệu\n",
    "phu_group_df.head()"
   ]
  },
  {
   "cell_type": "markdown",
   "metadata": {},
   "source": [
    "### Xem thông tin số dòng và các cột của bảng"
   ]
  },
  {
   "cell_type": "code",
   "execution_count": 185,
   "metadata": {},
   "outputs": [
    {
     "name": "stdout",
     "output_type": "stream",
     "text": [
      "<class 'pandas.core.frame.DataFrame'>\n",
      "RangeIndex: 34 entries, 0 to 33\n",
      "Data columns (total 3 columns):\n",
      " #   Column      Non-Null Count  Dtype \n",
      "---  ------      --------------  ----- \n",
      " 0   PHU_GROUP   34 non-null     object\n",
      " 1   PHU_CITY    34 non-null     object\n",
      " 2   PHU_REGION  34 non-null     object\n",
      "dtypes: object(3)\n",
      "memory usage: 944.0+ bytes\n"
     ]
    }
   ],
   "source": [
    "phu_group_df.info()"
   ]
  },
  {
   "cell_type": "markdown",
   "metadata": {},
   "source": [
    "$\\rightarrow$ **Kết quả:** Có tổng cộng 34 dòng dữ liệu và không có cột nào bị khuyết dữ liệu."
   ]
  },
  {
   "cell_type": "markdown",
   "metadata": {},
   "source": [
    "### Kiểm tra dữ liệu bị duplicated và xử lí"
   ]
  },
  {
   "cell_type": "code",
   "execution_count": 186,
   "metadata": {},
   "outputs": [
    {
     "data": {
      "text/html": [
       "<div>\n",
       "<style scoped>\n",
       "    .dataframe tbody tr th:only-of-type {\n",
       "        vertical-align: middle;\n",
       "    }\n",
       "\n",
       "    .dataframe tbody tr th {\n",
       "        vertical-align: top;\n",
       "    }\n",
       "\n",
       "    .dataframe thead th {\n",
       "        text-align: right;\n",
       "    }\n",
       "</style>\n",
       "<table border=\"1\" class=\"dataframe\">\n",
       "  <thead>\n",
       "    <tr style=\"text-align: right;\">\n",
       "      <th></th>\n",
       "      <th>PHU_GROUP</th>\n",
       "      <th>PHU_CITY</th>\n",
       "      <th>PHU_REGION</th>\n",
       "    </tr>\n",
       "  </thead>\n",
       "  <tbody>\n",
       "  </tbody>\n",
       "</table>\n",
       "</div>"
      ],
      "text/plain": [
       "Empty DataFrame\n",
       "Columns: [PHU_GROUP, PHU_CITY, PHU_REGION]\n",
       "Index: []"
      ]
     },
     "execution_count": 186,
     "metadata": {},
     "output_type": "execute_result"
    }
   ],
   "source": [
    "# Kiểm tra các dòng bị trùng lắp\n",
    "phu_group_df[phu_group_df.duplicated()]"
   ]
  },
  {
   "cell_type": "markdown",
   "metadata": {},
   "source": [
    "$\\rightarrow$ **Kết quả:** Không có dòng dữ liệu bị duplicated nên không cần xử lí."
   ]
  },
  {
   "cell_type": "markdown",
   "metadata": {},
   "source": [
    "### Xuất dữ liệu hoàn chỉnh ra file source"
   ]
  },
  {
   "cell_type": "code",
   "execution_count": 187,
   "metadata": {},
   "outputs": [],
   "source": [
    "phu_group_df.to_csv('Datasource_Cleaned/Public_Health_Units_GROUP.csv')"
   ]
  },
  {
   "cell_type": "markdown",
   "metadata": {},
   "source": [
    "## 6. Chuẩn bị dữ liệu `vaccines_by_age_phu`"
   ]
  },
  {
   "cell_type": "markdown",
   "metadata": {},
   "source": [
    "### Đọc và xem bảng"
   ]
  },
  {
   "cell_type": "code",
   "execution_count": 189,
   "metadata": {},
   "outputs": [
    {
     "data": {
      "text/html": [
       "<div>\n",
       "<style scoped>\n",
       "    .dataframe tbody tr th:only-of-type {\n",
       "        vertical-align: middle;\n",
       "    }\n",
       "\n",
       "    .dataframe tbody tr th {\n",
       "        vertical-align: top;\n",
       "    }\n",
       "\n",
       "    .dataframe thead th {\n",
       "        text-align: right;\n",
       "    }\n",
       "</style>\n",
       "<table border=\"1\" class=\"dataframe\">\n",
       "  <thead>\n",
       "    <tr style=\"text-align: right;\">\n",
       "      <th></th>\n",
       "      <th>DATE</th>\n",
       "      <th>PHU_ID</th>\n",
       "      <th>AGEGROUP</th>\n",
       "      <th>AT_LEAST_ONE_DOSE_CUMULATIVE</th>\n",
       "      <th>SECOND_DOSE_CUMULATIVE</th>\n",
       "      <th>FULLY_VACCINATED_CUMULATIVE</th>\n",
       "      <th>THIRD_DOSE_CUMULATIVE</th>\n",
       "    </tr>\n",
       "  </thead>\n",
       "  <tbody>\n",
       "    <tr>\n",
       "      <th>0</th>\n",
       "      <td>7/26/2021</td>\n",
       "      <td>2226</td>\n",
       "      <td>12-17yrs</td>\n",
       "      <td>3843.0</td>\n",
       "      <td>1890.0</td>\n",
       "      <td>NaN</td>\n",
       "      <td>NaN</td>\n",
       "    </tr>\n",
       "    <tr>\n",
       "      <th>1</th>\n",
       "      <td>7/26/2021</td>\n",
       "      <td>2227</td>\n",
       "      <td>12-17yrs</td>\n",
       "      <td>6306.0</td>\n",
       "      <td>3567.0</td>\n",
       "      <td>NaN</td>\n",
       "      <td>NaN</td>\n",
       "    </tr>\n",
       "    <tr>\n",
       "      <th>2</th>\n",
       "      <td>7/26/2021</td>\n",
       "      <td>2230</td>\n",
       "      <td>12-17yrs</td>\n",
       "      <td>34025.0</td>\n",
       "      <td>16953.0</td>\n",
       "      <td>NaN</td>\n",
       "      <td>NaN</td>\n",
       "    </tr>\n",
       "    <tr>\n",
       "      <th>3</th>\n",
       "      <td>7/26/2021</td>\n",
       "      <td>2233</td>\n",
       "      <td>12-17yrs</td>\n",
       "      <td>5533.0</td>\n",
       "      <td>3627.0</td>\n",
       "      <td>NaN</td>\n",
       "      <td>NaN</td>\n",
       "    </tr>\n",
       "    <tr>\n",
       "      <th>4</th>\n",
       "      <td>7/26/2021</td>\n",
       "      <td>2234</td>\n",
       "      <td>12-17yrs</td>\n",
       "      <td>3125.0</td>\n",
       "      <td>1711.0</td>\n",
       "      <td>NaN</td>\n",
       "      <td>NaN</td>\n",
       "    </tr>\n",
       "  </tbody>\n",
       "</table>\n",
       "</div>"
      ],
      "text/plain": [
       "        DATE  PHU_ID  AGEGROUP  AT_LEAST_ONE_DOSE_CUMULATIVE  \\\n",
       "0  7/26/2021    2226  12-17yrs                        3843.0   \n",
       "1  7/26/2021    2227  12-17yrs                        6306.0   \n",
       "2  7/26/2021    2230  12-17yrs                       34025.0   \n",
       "3  7/26/2021    2233  12-17yrs                        5533.0   \n",
       "4  7/26/2021    2234  12-17yrs                        3125.0   \n",
       "\n",
       "   SECOND_DOSE_CUMULATIVE  FULLY_VACCINATED_CUMULATIVE  THIRD_DOSE_CUMULATIVE  \n",
       "0                  1890.0                          NaN                    NaN  \n",
       "1                  3567.0                          NaN                    NaN  \n",
       "2                 16953.0                          NaN                    NaN  \n",
       "3                  3627.0                          NaN                    NaN  \n",
       "4                  1711.0                          NaN                    NaN  "
      ]
     },
     "execution_count": 189,
     "metadata": {},
     "output_type": "execute_result"
    }
   ],
   "source": [
    "# Đọc dữ liệu\n",
    "f_path = 'Datasource/vaccines_by_age_phu.csv'\n",
    "vaccines_df = pd.read_csv(f_path)\n",
    "\n",
    "# Chuẩn hóa tên cột\n",
    "header_list = vaccines_df.columns.str.title()\n",
    "vaccines_df.columns = [header.replace(' ','_').upper() for header in header_list]\n",
    "\n",
    "# Xem thử dữ liệu\n",
    "vaccines_df.head()"
   ]
  },
  {
   "cell_type": "markdown",
   "metadata": {},
   "source": [
    "### Xem thông tin số dòng và các cột của bảng"
   ]
  },
  {
   "cell_type": "code",
   "execution_count": 190,
   "metadata": {},
   "outputs": [
    {
     "name": "stdout",
     "output_type": "stream",
     "text": [
      "<class 'pandas.core.frame.DataFrame'>\n",
      "RangeIndex: 171182 entries, 0 to 171181\n",
      "Data columns (total 7 columns):\n",
      " #   Column                        Non-Null Count   Dtype  \n",
      "---  ------                        --------------   -----  \n",
      " 0   DATE                          171182 non-null  object \n",
      " 1   PHU_ID                        171182 non-null  int64  \n",
      " 2   AGEGROUP                      171182 non-null  object \n",
      " 3   AT_LEAST_ONE_DOSE_CUMULATIVE  170971 non-null  float64\n",
      " 4   SECOND_DOSE_CUMULATIVE        48642 non-null   float64\n",
      " 5   FULLY_VACCINATED_CUMULATIVE   121912 non-null  float64\n",
      " 6   THIRD_DOSE_CUMULATIVE         106015 non-null  float64\n",
      "dtypes: float64(4), int64(1), object(2)\n",
      "memory usage: 9.1+ MB\n"
     ]
    }
   ],
   "source": [
    "vaccines_df.info()"
   ]
  },
  {
   "cell_type": "markdown",
   "metadata": {},
   "source": [
    "$\\rightarrow$ **Kết quả:** Có tổng cộng 171182 dòng dữ liệu. Các cột `At least one dose_cumulative`, `Second_dose_cumulative`, `fully_vaccinated_cumulative` và `third_dose_cumulative` còn khuyết dữ liệu."
   ]
  },
  {
   "cell_type": "markdown",
   "metadata": {},
   "source": [
    "### Kiểm tra dữ liệu bị duplicated và xử lí"
   ]
  },
  {
   "cell_type": "code",
   "execution_count": 191,
   "metadata": {},
   "outputs": [
    {
     "data": {
      "text/html": [
       "<div>\n",
       "<style scoped>\n",
       "    .dataframe tbody tr th:only-of-type {\n",
       "        vertical-align: middle;\n",
       "    }\n",
       "\n",
       "    .dataframe tbody tr th {\n",
       "        vertical-align: top;\n",
       "    }\n",
       "\n",
       "    .dataframe thead th {\n",
       "        text-align: right;\n",
       "    }\n",
       "</style>\n",
       "<table border=\"1\" class=\"dataframe\">\n",
       "  <thead>\n",
       "    <tr style=\"text-align: right;\">\n",
       "      <th></th>\n",
       "      <th>DATE</th>\n",
       "      <th>PHU_ID</th>\n",
       "      <th>AGEGROUP</th>\n",
       "      <th>AT_LEAST_ONE_DOSE_CUMULATIVE</th>\n",
       "      <th>SECOND_DOSE_CUMULATIVE</th>\n",
       "      <th>FULLY_VACCINATED_CUMULATIVE</th>\n",
       "      <th>THIRD_DOSE_CUMULATIVE</th>\n",
       "    </tr>\n",
       "  </thead>\n",
       "  <tbody>\n",
       "  </tbody>\n",
       "</table>\n",
       "</div>"
      ],
      "text/plain": [
       "Empty DataFrame\n",
       "Columns: [DATE, PHU_ID, AGEGROUP, AT_LEAST_ONE_DOSE_CUMULATIVE, SECOND_DOSE_CUMULATIVE, FULLY_VACCINATED_CUMULATIVE, THIRD_DOSE_CUMULATIVE]\n",
       "Index: []"
      ]
     },
     "execution_count": 191,
     "metadata": {},
     "output_type": "execute_result"
    }
   ],
   "source": [
    "# Kiểm tra các dòng bị trùng lắp\n",
    "vaccines_df[vaccines_df.duplicated()]"
   ]
  },
  {
   "cell_type": "markdown",
   "metadata": {},
   "source": [
    "$\\rightarrow$ **Kết quả:** Không có dòng dữ liệu bị duplicated nên không cần xử lí."
   ]
  },
  {
   "cell_type": "markdown",
   "metadata": {},
   "source": [
    "### Xuất dữ liệu hoàn chỉnh ra file source"
   ]
  },
  {
   "cell_type": "code",
   "execution_count": 192,
   "metadata": {},
   "outputs": [],
   "source": [
    "vaccines_df.to_csv('Datasource_Cleaned/Vaccines.csv')"
   ]
  }
 ],
 "metadata": {
  "kernelspec": {
   "display_name": "Python 3.9.13 ('base')",
   "language": "python",
   "name": "python3"
  },
  "language_info": {
   "codemirror_mode": {
    "name": "ipython",
    "version": 3
   },
   "file_extension": ".py",
   "mimetype": "text/x-python",
   "name": "python",
   "nbconvert_exporter": "python",
   "pygments_lexer": "ipython3",
   "version": "3.9.13"
  },
  "orig_nbformat": 4,
  "vscode": {
   "interpreter": {
    "hash": "64bd15230d1883763aa86f26346b0c145baee5e62daa9bf94030c557fd72b82d"
   }
  }
 },
 "nbformat": 4,
 "nbformat_minor": 2
}
